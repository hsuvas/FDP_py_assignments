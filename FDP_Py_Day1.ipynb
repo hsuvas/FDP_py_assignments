{
  "nbformat": 4,
  "nbformat_minor": 0,
  "metadata": {
    "colab": {
      "name": "FDP_Py_Day1.ipynb",
      "provenance": [],
      "authorship_tag": "ABX9TyPtpIVr3q8mdhBJU6Jrt9a+",
      "include_colab_link": true
    },
    "kernelspec": {
      "name": "python3",
      "display_name": "Python 3"
    }
  },
  "cells": [
    {
      "cell_type": "markdown",
      "metadata": {
        "id": "view-in-github",
        "colab_type": "text"
      },
      "source": [
        "<a href=\"https://colab.research.google.com/github/hsuvas/FDP_py_assignments/blob/master/FDP_Py_Day1.ipynb\" target=\"_parent\"><img src=\"https://colab.research.google.com/assets/colab-badge.svg\" alt=\"Open In Colab\"/></a>"
      ]
    },
    {
      "cell_type": "code",
      "metadata": {
        "id": "F_huYUz6vc4D",
        "colab_type": "code",
        "colab": {
          "base_uri": "https://localhost:8080/",
          "height": 51
        },
        "outputId": "22885dd2-9ec7-48fa-c56f-2871bde1db9b"
      },
      "source": [
        "#Print Number of vowels in the string\n",
        "\n",
        "s=input(\"Insert a string: \")\n",
        "count=0\n",
        "\n",
        "for letter in s:\n",
        "  if letter in set('aeiou'):\n",
        "    count+=1\n",
        "\n",
        "print(\"The number of vowels are: {}\".format(count))"
      ],
      "execution_count": 8,
      "outputs": [
        {
          "output_type": "stream",
          "text": [
            "Insert a string: hsuvaskakoty\n",
            "The number of vowels are: 4\n"
          ],
          "name": "stdout"
        }
      ]
    },
    {
      "cell_type": "code",
      "metadata": {
        "id": "3RmdhyHJCa4D",
        "colab_type": "code",
        "colab": {
          "base_uri": "https://localhost:8080/",
          "height": 105
        },
        "outputId": "06f63390-7215-4833-ba69-8e7f25f50112"
      },
      "source": [
        "#2. program to take a string as input and replace a character within the string using the replace() function.\n",
        "\n",
        "s=input(\"Insert a string: \")\n",
        "\n",
        "\n",
        "old=input(\"what is the character that you want to change: \")\n",
        "new=input(\"Enter the character you want to change with: \")\n",
        "\n",
        "print(s.replace(old,new))\n"
      ],
      "execution_count": 16,
      "outputs": [
        {
          "output_type": "stream",
          "text": [
            "Insert a string: husuhusu\n",
            "what is the character that you want to change: s\n",
            "Enter the character you want to change with: b\n",
            "hubuhubu\n"
          ],
          "name": "stdout"
        },
        {
          "output_type": "execute_result",
          "data": {
            "application/vnd.google.colaboratory.intrinsic": {
              "type": "string"
            },
            "text/plain": [
              "'\\nfor letter in s:\\n  if letter==old:\\n    print(s.replace(old,new))\\n  else:\\n    continue\\n'"
            ]
          },
          "metadata": {
            "tags": []
          },
          "execution_count": 16
        }
      ]
    },
    {
      "cell_type": "code",
      "metadata": {
        "id": "0zkMeubFHx4e",
        "colab_type": "code",
        "colab": {
          "base_uri": "https://localhost:8080/",
          "height": 85
        },
        "outputId": "26ceccbc-b172-4908-cd1f-3069ab2f644d"
      },
      "source": [
        "#3. program to take a string as input and replace a character within the string without using any in-built function.\n",
        "\n",
        "s=input(\"Insert a string: \")\n",
        "new_s=''\n",
        "\n",
        "old=input(\"what is the character that you want to change: \")\n",
        "new=input(\"Enter the character you want to change with: \")\n",
        "\n",
        "for letter in s:\n",
        "  if letter==old:\n",
        "    new_s= new_s+ new\n",
        "  else:\n",
        "    new_s= new_s+ letter\n",
        "\n",
        "print(new_s)\n",
        "    "
      ],
      "execution_count": 22,
      "outputs": [
        {
          "output_type": "stream",
          "text": [
            "Insert a string: husu\n",
            "what is the character that you want to change: s\n",
            "Enter the character you want to change with: b\n",
            "hubu\n"
          ],
          "name": "stdout"
        }
      ]
    },
    {
      "cell_type": "code",
      "metadata": {
        "id": "ElkPz8rzM7SP",
        "colab_type": "code",
        "colab": {
          "base_uri": "https://localhost:8080/",
          "height": 68
        },
        "outputId": "bc5b8855-c8c8-4ae1-ba18-973f7b08fb1e"
      },
      "source": [
        "#4. Program to convert a decimal no. to Octal and Hexadecimal \n",
        "dec=int(input(\"Insert the decimal no: \"))\n",
        "print(\"The octal value is: {}\".format(oct(dec)))\n",
        "print(\"The Hexadecimal value is: {}\".format(hex(dec)))"
      ],
      "execution_count": 25,
      "outputs": [
        {
          "output_type": "stream",
          "text": [
            "Insert the decimal no: 7\n",
            "The octal value is: 0o7\n",
            "The Hexadecimal value is: 0x7\n"
          ],
          "name": "stdout"
        }
      ]
    },
    {
      "cell_type": "code",
      "metadata": {
        "id": "8ipH0nviOpLB",
        "colab_type": "code",
        "colab": {
          "base_uri": "https://localhost:8080/",
          "height": 51
        },
        "outputId": "d7f675ee-a88d-4e30-b8ae-d586664b5a27"
      },
      "source": [
        "#5. program to print the reverse of an integer number taken as input. \n",
        "number= int(input(\"Insert the Number: \"))\n",
        "reverse= 0\n",
        "\n",
        "while(number>0):\n",
        "  rem=number % 10\n",
        "  reverse= reverse*10 + rem\n",
        "  number= number // 10\n",
        "\n",
        "print(\"Reverse of the number is: \", reverse)\n",
        "\n",
        "\n"
      ],
      "execution_count": 28,
      "outputs": [
        {
          "output_type": "stream",
          "text": [
            "Insert the Number: 256\n",
            "Reverse of the number is:  652\n"
          ],
          "name": "stdout"
        }
      ]
    },
    {
      "cell_type": "code",
      "metadata": {
        "id": "n9n2PfKmQeeD",
        "colab_type": "code",
        "colab": {
          "base_uri": "https://localhost:8080/",
          "height": 51
        },
        "outputId": "107e78f4-a6d3-4641-90a1-0a393865d3c7"
      },
      "source": [
        "#6. program to print the sum of the digits of an integer number taken as input. \n",
        "number= int(input(\"Insert the Number: \"))\n",
        "sum_digits= 0\n",
        "\n",
        "while(number>0):\n",
        "  rem = int(number % 10 )\n",
        "  sum_digits=sum_digits+ rem\n",
        "  number=number/10\n",
        "\n",
        "print(sum_digits)"
      ],
      "execution_count": 31,
      "outputs": [
        {
          "output_type": "stream",
          "text": [
            "Insert the Number: 234\n",
            "9\n"
          ],
          "name": "stdout"
        }
      ]
    },
    {
      "cell_type": "code",
      "metadata": {
        "id": "sqABu3U0Tt0u",
        "colab_type": "code",
        "colab": {
          "base_uri": "https://localhost:8080/",
          "height": 51
        },
        "outputId": "33c9a32c-364e-4052-ad41-99c107ca1f4c"
      },
      "source": [
        "#7. program to check if a given string is palindrome or not.\n",
        "\n",
        "s= input(\"Enter the String\")\n",
        "rev_s= s[::-1] #string reversal through moving backwards(-1)\n",
        "\n",
        "if s==rev_s:\n",
        "  print(\"String ' {} ' is a palindrome\".format(s))\n",
        "else:\n",
        "  print(\"String ' {} ' is not palindrome\".format(s))"
      ],
      "execution_count": 32,
      "outputs": [
        {
          "output_type": "stream",
          "text": [
            "Enter the Stringmalayalam\n",
            "String malayalam is a palindrome\n"
          ],
          "name": "stdout"
        }
      ]
    },
    {
      "cell_type": "code",
      "metadata": {
        "id": "E-NwvUQ0WqUx",
        "colab_type": "code",
        "colab": {
          "base_uri": "https://localhost:8080/",
          "height": 68
        },
        "outputId": "aaa608d6-7747-4bc4-b159-ffc0388be5d1"
      },
      "source": [
        "#8. Program to print the sum of all the digits of a floating point number. \n",
        "\n",
        "number= float(input(\"Enter the Number: \"))\n",
        "\n",
        "int_num= int(number)\n",
        "dec_num= str(number-int(number))[1:]\n",
        "number_new=int(number*(10**(len(dec_num)-1)))\n",
        "\n",
        "sum_digits= 0\n",
        "\n",
        "while(number_new>0):\n",
        "  rem = int(number_new % 10)\n",
        "  sum_digits=sum_digits+ rem\n",
        "  number_new=number_new/10\n",
        "\n",
        "print(sum_digits)"
      ],
      "execution_count": 46,
      "outputs": [
        {
          "output_type": "stream",
          "text": [
            "Enter the Number: 654.823 \n",
            "6548230000000000000\n",
            "28\n"
          ],
          "name": "stdout"
        }
      ]
    },
    {
      "cell_type": "code",
      "metadata": {
        "id": "0pGEl0F1eoZg",
        "colab_type": "code",
        "colab": {
          "base_uri": "https://localhost:8080/",
          "height": 51
        },
        "outputId": "fa5566ac-1a42-4438-a636-cb4ea83e7ab7"
      },
      "source": [
        "#9. Program to print the second largest number from a set of values given as input by the user.\n",
        "l=[int(x) for x in input(\"Enter the set of values: \").split(\",\")]\n",
        "\n",
        "l.sort(reverse=True)\n",
        "\n",
        "print(\"The Second largest number is: {} \".format(l[1]))\n"
      ],
      "execution_count": 65,
      "outputs": [
        {
          "output_type": "stream",
          "text": [
            "Enter the set of values: 1,2,3,4,5\n",
            "The Second largest number is: 4 \n"
          ],
          "name": "stdout"
        }
      ]
    },
    {
      "cell_type": "code",
      "metadata": {
        "id": "ZvBpiqWMkMOJ",
        "colab_type": "code",
        "colab": {
          "base_uri": "https://localhost:8080/",
          "height": 51
        },
        "outputId": "08d70c6c-62f3-4187-c22f-c0b4f3611c60"
      },
      "source": [
        "#10. program to print the factorial of a number taken as input from the user. \n",
        "num= int(input(\"Enter the number: \"))\n",
        "fact=1\n",
        "for i in range(1,num+1):\n",
        "  fact=fact*i\n",
        "print(\"factorial is %d\"%fact)"
      ],
      "execution_count": 70,
      "outputs": [
        {
          "output_type": "stream",
          "text": [
            "Enter the number: 5\n",
            "factorial is 120\n"
          ],
          "name": "stdout"
        }
      ]
    },
    {
      "cell_type": "code",
      "metadata": {
        "id": "fCECWyXglmUv",
        "colab_type": "code",
        "colab": {
          "base_uri": "https://localhost:8080/",
          "height": 136
        },
        "outputId": "81d1fc02-821e-40cd-c8ec-59d848cce663"
      },
      "source": [
        "#11. Program to print the Fibonacci series. The number of terms to be printed is to be taken as input from the user. \n",
        "\n",
        "limit=int(input(\"Upto how many numbers? : \"))\n",
        "first_term=0\n",
        "second_term=1\n",
        "print(\"Fibonacci series: \")\n",
        "print(first_term)\n",
        "print(second_term)\n",
        "while (limit-2):\n",
        "  term=first_term+second_term\n",
        "  first_term=second_term\n",
        "  second_term=term\n",
        "  print(term)\n",
        "  limit=limit-1\n"
      ],
      "execution_count": 75,
      "outputs": [
        {
          "output_type": "stream",
          "text": [
            "Upto how many numbers? : 5\n",
            "Fibonacci series: \n",
            "0\n",
            "1\n",
            "1\n",
            "2\n",
            "3\n"
          ],
          "name": "stdout"
        }
      ]
    },
    {
      "cell_type": "code",
      "metadata": {
        "id": "GpX4cB3gpBnl",
        "colab_type": "code",
        "colab": {
          "base_uri": "https://localhost:8080/",
          "height": 51
        },
        "outputId": "d8a84fe6-04d1-488d-fe12-e05ee2cc3b01"
      },
      "source": [
        "#12 Program to print the initials of a name taken as input from the user\n",
        "\n",
        "fullname=input(\"Enter your full name: \")\n",
        "initials=''\n",
        "l=fullname.split(\" \")\n",
        "\n",
        "for i in range(len(l)-1):\n",
        "  name=l[i]\n",
        "  initials=initials+\" \"+name[0].upper()\n",
        "initials=initials+\" \"+l[-1].title()\n",
        "\n",
        "print(initials)"
      ],
      "execution_count": 85,
      "outputs": [
        {
          "output_type": "stream",
          "text": [
            "Enter your full name: hsuvas chandra borkakoty\n",
            " H C Borkakoty\n"
          ],
          "name": "stdout"
        }
      ]
    },
    {
      "cell_type": "code",
      "metadata": {
        "id": "-nRKi5tgs0uc",
        "colab_type": "code",
        "colab": {
          "base_uri": "https://localhost:8080/",
          "height": 51
        },
        "outputId": "c008ab4d-617d-4347-d830-c6d27cd16b8d"
      },
      "source": [
        "#13  program to input a string and print the no. of occurrences of the characters in the string \n",
        "s=input(\"Enter the string: \")\n",
        "occurence={}\n",
        "\n",
        "for i in s:\n",
        "  if i in occurence:\n",
        "    occurence[i]+=1\n",
        "  else:\n",
        "    occurence[i]=1\n",
        "print(\"Occurence of characters in string is: {}\".format(occurence))"
      ],
      "execution_count": 90,
      "outputs": [
        {
          "output_type": "stream",
          "text": [
            "Enter the string: abcdba\n",
            "Occurence of characters in string is: {'a': 2, 'b': 2, 'c': 1, 'd': 1}\n"
          ],
          "name": "stdout"
        }
      ]
    },
    {
      "cell_type": "code",
      "metadata": {
        "id": "bG_PdBu4v0-J",
        "colab_type": "code",
        "colab": {
          "base_uri": "https://localhost:8080/",
          "height": 85
        },
        "outputId": "18129706-3080-4a0b-8875-9d48f695b0bf"
      },
      "source": [
        "#14. Program to delete from the set all the occurrences of a particular number. \n",
        "\n",
        "l=[int(x) for x in input(\"Enter the set of values: \").split(\",\")]\n",
        "print(\"Your list of numbers are\"+str(l))\n",
        "del_no= int(input(\"Which number to delete: \"))\n",
        "\n",
        "for i in l:\n",
        "  if i==del_no:\n",
        "    l.remove(i)\n",
        "\n",
        "print(\"Updated list is: \"+str(l))\n"
      ],
      "execution_count": 93,
      "outputs": [
        {
          "output_type": "stream",
          "text": [
            "Enter the set of values: 1,2,3,4,5,4,3,4,6,7\n",
            "Your list of numbers are[1, 2, 3, 4, 5, 4, 3, 4, 6, 7]\n",
            "Which number to delete: 4\n",
            "Updated list is: [1, 2, 3, 5, 3, 6, 7]\n"
          ],
          "name": "stdout"
        }
      ]
    }
  ]
}